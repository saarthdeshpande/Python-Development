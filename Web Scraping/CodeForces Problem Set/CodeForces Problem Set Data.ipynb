{
 "cells": [
  {
   "cell_type": "markdown",
   "metadata": {},
   "source": [
    "# Import Necessary Libraries"
   ]
  },
  {
   "cell_type": "code",
   "execution_count": 1,
   "metadata": {},
   "outputs": [],
   "source": [
    "import bs4\n",
    "from bs4 import BeautifulSoup\n",
    "import requests\n",
    "import pandas as pd\n",
    "import re"
   ]
  },
  {
   "cell_type": "markdown",
   "metadata": {},
   "source": [
    "# Read .csv file and Create Resultant DataFrame"
   ]
  },
  {
   "cell_type": "code",
   "execution_count": 2,
   "metadata": {},
   "outputs": [
    {
     "data": {
      "text/html": [
       "<div>\n",
       "<style scoped>\n",
       "    .dataframe tbody tr th:only-of-type {\n",
       "        vertical-align: middle;\n",
       "    }\n",
       "\n",
       "    .dataframe tbody tr th {\n",
       "        vertical-align: top;\n",
       "    }\n",
       "\n",
       "    .dataframe thead th {\n",
       "        text-align: right;\n",
       "    }\n",
       "</style>\n",
       "<table border=\"1\" class=\"dataframe\">\n",
       "  <thead>\n",
       "    <tr style=\"text-align: right;\">\n",
       "      <th></th>\n",
       "      <th>Problem Number</th>\n",
       "    </tr>\n",
       "  </thead>\n",
       "  <tbody>\n",
       "    <tr>\n",
       "      <th>0</th>\n",
       "      <td>4A</td>\n",
       "    </tr>\n",
       "    <tr>\n",
       "      <th>1</th>\n",
       "      <td>1A</td>\n",
       "    </tr>\n",
       "    <tr>\n",
       "      <th>2</th>\n",
       "      <td>71A</td>\n",
       "    </tr>\n",
       "    <tr>\n",
       "      <th>3</th>\n",
       "      <td>158A</td>\n",
       "    </tr>\n",
       "    <tr>\n",
       "      <th>4</th>\n",
       "      <td>118A</td>\n",
       "    </tr>\n",
       "    <tr>\n",
       "      <th>5</th>\n",
       "      <td>231A</td>\n",
       "    </tr>\n",
       "    <tr>\n",
       "      <th>6</th>\n",
       "      <td>50A</td>\n",
       "    </tr>\n",
       "    <tr>\n",
       "      <th>7</th>\n",
       "      <td>282A</td>\n",
       "    </tr>\n",
       "    <tr>\n",
       "      <th>8</th>\n",
       "      <td>112A</td>\n",
       "    </tr>\n",
       "    <tr>\n",
       "      <th>9</th>\n",
       "      <td>96A</td>\n",
       "    </tr>\n",
       "  </tbody>\n",
       "</table>\n",
       "</div>"
      ],
      "text/plain": [
       "  Problem Number\n",
       "0             4A\n",
       "1             1A\n",
       "2            71A\n",
       "3           158A\n",
       "4           118A\n",
       "5           231A\n",
       "6            50A\n",
       "7           282A\n",
       "8           112A\n",
       "9            96A"
      ]
     },
     "execution_count": 2,
     "metadata": {},
     "output_type": "execute_result"
    }
   ],
   "source": [
    "df = pd.read_csv('Problems.csv')\n",
    "final_df = pd.DataFrame({'Problem Number':df['PROBLEM NO']})\n",
    "df = df.set_index('SR.NO')\n",
    "final_df.head(10)"
   ]
  },
  {
   "cell_type": "markdown",
   "metadata": {},
   "source": [
    "Iterate through the links to add problem statement definitions to an empty list."
   ]
  },
  {
   "cell_type": "code",
   "execution_count": 3,
   "metadata": {},
   "outputs": [],
   "source": [
    "links = df['LINK']\n",
    "problemStatements = []\n",
    "for link in links:\n",
    "    page = requests.get(f\"{link}\")\n",
    "    soup = BeautifulSoup(page.content,\"lxml\")\n",
    "    match = soup.find(class_ = 'problem-statement')\n",
    "    for x in match:\n",
    "        if str(x)[:8] == '<div><p>':\n",
    "            result = re.sub(r\"<p>\", \"\", str(x))\n",
    "            result = re.sub(r\"</p>\", \"\", str(result))\n",
    "            result = re.sub(r\"<div>\", \"\", str(result))\n",
    "            result = re.sub(r\"</div>\", \"\", str(result))\n",
    "            problemStatements.append(result)"
   ]
  },
  {
   "cell_type": "markdown",
   "metadata": {},
   "source": [
    "Add the problem statement list as a column to resultant dataframe."
   ]
  },
  {
   "cell_type": "code",
   "execution_count": 4,
   "metadata": {},
   "outputs": [],
   "source": [
    "final_df = pd.concat([final_df,pd.Series(problemStatements)],axis = 1)\n",
    "final_df.columns = ['Problem Number', 'Problem Statement']"
   ]
  },
  {
   "cell_type": "code",
   "execution_count": 5,
   "metadata": {},
   "outputs": [
    {
     "data": {
      "text/html": [
       "<div>\n",
       "<style scoped>\n",
       "    .dataframe tbody tr th:only-of-type {\n",
       "        vertical-align: middle;\n",
       "    }\n",
       "\n",
       "    .dataframe tbody tr th {\n",
       "        vertical-align: top;\n",
       "    }\n",
       "\n",
       "    .dataframe thead th {\n",
       "        text-align: right;\n",
       "    }\n",
       "</style>\n",
       "<table border=\"1\" class=\"dataframe\">\n",
       "  <thead>\n",
       "    <tr style=\"text-align: right;\">\n",
       "      <th></th>\n",
       "      <th>Problem Number</th>\n",
       "      <th>Problem Statement</th>\n",
       "    </tr>\n",
       "  </thead>\n",
       "  <tbody>\n",
       "    <tr>\n",
       "      <th>0</th>\n",
       "      <td>4A</td>\n",
       "      <td>One hot summer day Pete and his friend Billy d...</td>\n",
       "    </tr>\n",
       "    <tr>\n",
       "      <th>1</th>\n",
       "      <td>1A</td>\n",
       "      <td>Theatre Square in the capital city of Berland ...</td>\n",
       "    </tr>\n",
       "    <tr>\n",
       "      <th>2</th>\n",
       "      <td>71A</td>\n",
       "      <td>Sometimes some words like \"&lt;span class=\"tex-fo...</td>\n",
       "    </tr>\n",
       "    <tr>\n",
       "      <th>3</th>\n",
       "      <td>158A</td>\n",
       "      <td>\"Contestant who earns a score equal to or grea...</td>\n",
       "    </tr>\n",
       "    <tr>\n",
       "      <th>4</th>\n",
       "      <td>118A</td>\n",
       "      <td>Petya started to attend programming lessons. O...</td>\n",
       "    </tr>\n",
       "  </tbody>\n",
       "</table>\n",
       "</div>"
      ],
      "text/plain": [
       "  Problem Number                                  Problem Statement\n",
       "0             4A  One hot summer day Pete and his friend Billy d...\n",
       "1             1A  Theatre Square in the capital city of Berland ...\n",
       "2            71A  Sometimes some words like \"<span class=\"tex-fo...\n",
       "3           158A  \"Contestant who earns a score equal to or grea...\n",
       "4           118A  Petya started to attend programming lessons. O..."
      ]
     },
     "execution_count": 5,
     "metadata": {},
     "output_type": "execute_result"
    }
   ],
   "source": [
    "final_df.head()"
   ]
  },
  {
   "cell_type": "markdown",
   "metadata": {},
   "source": [
    "Similarly, do the same for input and output specifications of the problems."
   ]
  },
  {
   "cell_type": "code",
   "execution_count": 6,
   "metadata": {},
   "outputs": [],
   "source": [
    "links = df['LINK']\n",
    "inputSpecifications = []\n",
    "for link in links:\n",
    "    page = requests.get(f\"{link}\")\n",
    "    soup = BeautifulSoup(page.content,\"lxml\")\n",
    "    match = soup.find(class_ = 'input-specification').get_text()\n",
    "    inputSpecifications.append(str(match)[5:])"
   ]
  },
  {
   "cell_type": "code",
   "execution_count": 7,
   "metadata": {},
   "outputs": [],
   "source": [
    "final_df = pd.concat([final_df,pd.Series(inputSpecifications)],axis = 1)\n",
    "final_df.columns = ['Problem Number', 'Problem Statement', 'Input Specifications']"
   ]
  },
  {
   "cell_type": "code",
   "execution_count": 8,
   "metadata": {},
   "outputs": [
    {
     "data": {
      "text/html": [
       "<div>\n",
       "<style scoped>\n",
       "    .dataframe tbody tr th:only-of-type {\n",
       "        vertical-align: middle;\n",
       "    }\n",
       "\n",
       "    .dataframe tbody tr th {\n",
       "        vertical-align: top;\n",
       "    }\n",
       "\n",
       "    .dataframe thead th {\n",
       "        text-align: right;\n",
       "    }\n",
       "</style>\n",
       "<table border=\"1\" class=\"dataframe\">\n",
       "  <thead>\n",
       "    <tr style=\"text-align: right;\">\n",
       "      <th></th>\n",
       "      <th>Problem Number</th>\n",
       "      <th>Problem Statement</th>\n",
       "      <th>Input Specifications</th>\n",
       "    </tr>\n",
       "  </thead>\n",
       "  <tbody>\n",
       "    <tr>\n",
       "      <th>0</th>\n",
       "      <td>4A</td>\n",
       "      <td>One hot summer day Pete and his friend Billy d...</td>\n",
       "      <td>The first (and the only) input line contains i...</td>\n",
       "    </tr>\n",
       "    <tr>\n",
       "      <th>1</th>\n",
       "      <td>1A</td>\n",
       "      <td>Theatre Square in the capital city of Berland ...</td>\n",
       "      <td>The input contains three positive integer numb...</td>\n",
       "    </tr>\n",
       "    <tr>\n",
       "      <th>2</th>\n",
       "      <td>71A</td>\n",
       "      <td>Sometimes some words like \"&lt;span class=\"tex-fo...</td>\n",
       "      <td>The first line contains an integer n (1 ≤ n ≤ ...</td>\n",
       "    </tr>\n",
       "    <tr>\n",
       "      <th>3</th>\n",
       "      <td>158A</td>\n",
       "      <td>\"Contestant who earns a score equal to or grea...</td>\n",
       "      <td>The first line of the input contains two integ...</td>\n",
       "    </tr>\n",
       "    <tr>\n",
       "      <th>4</th>\n",
       "      <td>118A</td>\n",
       "      <td>Petya started to attend programming lessons. O...</td>\n",
       "      <td>The first line represents input string of Pety...</td>\n",
       "    </tr>\n",
       "  </tbody>\n",
       "</table>\n",
       "</div>"
      ],
      "text/plain": [
       "  Problem Number                                  Problem Statement  \\\n",
       "0             4A  One hot summer day Pete and his friend Billy d...   \n",
       "1             1A  Theatre Square in the capital city of Berland ...   \n",
       "2            71A  Sometimes some words like \"<span class=\"tex-fo...   \n",
       "3           158A  \"Contestant who earns a score equal to or grea...   \n",
       "4           118A  Petya started to attend programming lessons. O...   \n",
       "\n",
       "                                Input Specifications  \n",
       "0  The first (and the only) input line contains i...  \n",
       "1  The input contains three positive integer numb...  \n",
       "2  The first line contains an integer n (1 ≤ n ≤ ...  \n",
       "3  The first line of the input contains two integ...  \n",
       "4  The first line represents input string of Pety...  "
      ]
     },
     "execution_count": 8,
     "metadata": {},
     "output_type": "execute_result"
    }
   ],
   "source": [
    "final_df.head()"
   ]
  },
  {
   "cell_type": "code",
   "execution_count": 9,
   "metadata": {},
   "outputs": [],
   "source": [
    "links = df['LINK']\n",
    "outputSpecifications = []\n",
    "for link in links:\n",
    "    page = requests.get(f\"{link}\")\n",
    "    soup = BeautifulSoup(page.content,\"lxml\")\n",
    "    match = soup.find(class_ = 'output-specification').get_text()\n",
    "    outputSpecifications.append(str(match)[6:])"
   ]
  },
  {
   "cell_type": "code",
   "execution_count": 10,
   "metadata": {},
   "outputs": [],
   "source": [
    "final_df = pd.concat([final_df,pd.Series(outputSpecifications)],axis = 1)\n",
    "final_df.columns = ['Problem Number', 'Problem Statement', 'Input Specifications','Output Specifications']"
   ]
  },
  {
   "cell_type": "code",
   "execution_count": 11,
   "metadata": {},
   "outputs": [
    {
     "data": {
      "text/html": [
       "<div>\n",
       "<style scoped>\n",
       "    .dataframe tbody tr th:only-of-type {\n",
       "        vertical-align: middle;\n",
       "    }\n",
       "\n",
       "    .dataframe tbody tr th {\n",
       "        vertical-align: top;\n",
       "    }\n",
       "\n",
       "    .dataframe thead th {\n",
       "        text-align: right;\n",
       "    }\n",
       "</style>\n",
       "<table border=\"1\" class=\"dataframe\">\n",
       "  <thead>\n",
       "    <tr style=\"text-align: right;\">\n",
       "      <th></th>\n",
       "      <th>Problem Number</th>\n",
       "      <th>Problem Statement</th>\n",
       "      <th>Input Specifications</th>\n",
       "      <th>Output Specifications</th>\n",
       "    </tr>\n",
       "  </thead>\n",
       "  <tbody>\n",
       "    <tr>\n",
       "      <th>0</th>\n",
       "      <td>4A</td>\n",
       "      <td>One hot summer day Pete and his friend Billy d...</td>\n",
       "      <td>The first (and the only) input line contains i...</td>\n",
       "      <td>Print YES, if the boys can divide the watermel...</td>\n",
       "    </tr>\n",
       "    <tr>\n",
       "      <th>1</th>\n",
       "      <td>1A</td>\n",
       "      <td>Theatre Square in the capital city of Berland ...</td>\n",
       "      <td>The input contains three positive integer numb...</td>\n",
       "      <td>Write the needed number of flagstones.</td>\n",
       "    </tr>\n",
       "    <tr>\n",
       "      <th>2</th>\n",
       "      <td>71A</td>\n",
       "      <td>Sometimes some words like \"&lt;span class=\"tex-fo...</td>\n",
       "      <td>The first line contains an integer n (1 ≤ n ≤ ...</td>\n",
       "      <td>Print n lines. The i-th line should contain th...</td>\n",
       "    </tr>\n",
       "    <tr>\n",
       "      <th>3</th>\n",
       "      <td>158A</td>\n",
       "      <td>\"Contestant who earns a score equal to or grea...</td>\n",
       "      <td>The first line of the input contains two integ...</td>\n",
       "      <td>Output the number of participants who advance ...</td>\n",
       "    </tr>\n",
       "    <tr>\n",
       "      <th>4</th>\n",
       "      <td>118A</td>\n",
       "      <td>Petya started to attend programming lessons. O...</td>\n",
       "      <td>The first line represents input string of Pety...</td>\n",
       "      <td>Print the resulting string. It is guaranteed t...</td>\n",
       "    </tr>\n",
       "  </tbody>\n",
       "</table>\n",
       "</div>"
      ],
      "text/plain": [
       "  Problem Number                                  Problem Statement  \\\n",
       "0             4A  One hot summer day Pete and his friend Billy d...   \n",
       "1             1A  Theatre Square in the capital city of Berland ...   \n",
       "2            71A  Sometimes some words like \"<span class=\"tex-fo...   \n",
       "3           158A  \"Contestant who earns a score equal to or grea...   \n",
       "4           118A  Petya started to attend programming lessons. O...   \n",
       "\n",
       "                                Input Specifications  \\\n",
       "0  The first (and the only) input line contains i...   \n",
       "1  The input contains three positive integer numb...   \n",
       "2  The first line contains an integer n (1 ≤ n ≤ ...   \n",
       "3  The first line of the input contains two integ...   \n",
       "4  The first line represents input string of Pety...   \n",
       "\n",
       "                               Output Specifications  \n",
       "0  Print YES, if the boys can divide the watermel...  \n",
       "1             Write the needed number of flagstones.  \n",
       "2  Print n lines. The i-th line should contain th...  \n",
       "3  Output the number of participants who advance ...  \n",
       "4  Print the resulting string. It is guaranteed t...  "
      ]
     },
     "execution_count": 11,
     "metadata": {},
     "output_type": "execute_result"
    }
   ],
   "source": [
    "final_df.head()"
   ]
  },
  {
   "cell_type": "markdown",
   "metadata": {},
   "source": [
    "Write resultant dataframe to a .csv file."
   ]
  },
  {
   "cell_type": "code",
   "execution_count": 12,
   "metadata": {},
   "outputs": [],
   "source": [
    "final_df.to_csv('Problem Statements.csv')"
   ]
  }
 ],
 "metadata": {
  "kernelspec": {
   "display_name": "Python 3",
   "language": "python",
   "name": "python3"
  },
  "language_info": {
   "codemirror_mode": {
    "name": "ipython",
    "version": 3
   },
   "file_extension": ".py",
   "mimetype": "text/x-python",
   "name": "python",
   "nbconvert_exporter": "python",
   "pygments_lexer": "ipython3",
   "version": "3.7.3"
  }
 },
 "nbformat": 4,
 "nbformat_minor": 2
}
